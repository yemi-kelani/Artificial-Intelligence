{
 "cells": [
  {
   "cell_type": "code",
   "execution_count": 6,
   "metadata": {},
   "outputs": [
    {
     "name": "stdout",
     "output_type": "stream",
     "text": [
      "cuda\n"
     ]
    }
   ],
   "source": [
    "import torch\n",
    "\n",
    "DEVICE = torch.device(\"cuda\" if torch.cuda.is_available() else \"cpu\")\n",
    "print(DEVICE)\n",
    "\n",
    "from DeepQAgent import DeepQAgent\n",
    "from TicTacToeGame import TicTacToeGame, OPPONENT_LEVEL\n",
    "\n",
    "import os\n",
    "import sys\n",
    "sys.path.append(os.path.abspath('..'))\n",
    "\n",
    "from Utils import (\n",
    "    train_agent,\n",
    "    test_agent,\n",
    "    set_seed\n",
    ")\n",
    "\n",
    "sys.path.remove(os.path.abspath('..'))\n",
    "\n",
    "SEED = 100\n",
    "set_seed(SEED)\n",
    "\n",
    "# DeepQ parameters\n",
    "BATCH_SIZE     = 128\n",
    "NUM_EPISODES   = 2000 if torch.cuda.is_available() else 100\n",
    "STATE_SPACE    = 9\n",
    "ACTION_SPACE   = 9\n",
    "HIDDEN_SIZE    = 128\n",
    "EPSILON        = 1.0\n",
    "GAMMA          = 0.99\n",
    "LEARNING_RATE  = 0.001\n",
    "DROPOUT        = 0.25\n",
    "TRAIN_START    = 1500\n",
    "NEGATIVE_SLOPE = 0.01\n",
    "COMPUTER_LEVEL = OPPONENT_LEVEL.NAIVE\n",
    "\n",
    "# save path\n",
    "MODEL_PATH = \"../../../trained_models/ReinforcementLearning/TicTacToeV2\"\n",
    "MODEL_NAME = \"TicTacToe-Baseline-Untrained\"\n",
    "\n",
    "def get_full_model_path():\n",
    "  return os.path.join(MODEL_PATH, MODEL_NAME + \".pt\")\n",
    "\n",
    "def supply_model(load_if_exists: bool = True):\n",
    "  \n",
    "  agent = DeepQAgent(\n",
    "      device         = DEVICE,\n",
    "      epsilon        = EPSILON, \n",
    "      gamma          = GAMMA,\n",
    "      state_space    = STATE_SPACE, \n",
    "      action_space   = ACTION_SPACE, \n",
    "      hidden_size    = HIDDEN_SIZE,\n",
    "      dropout        = DROPOUT,\n",
    "      train_start    = TRAIN_START,\n",
    "      batch_size     = BATCH_SIZE,\n",
    "      negative_slope = NEGATIVE_SLOPE\n",
    "  )\n",
    "\n",
    "  if load_if_exists and os.path.exists(full_model_path):\n",
    "    print(\"Loading Model Parameters...\")\n",
    "    full_model_path = get_full_model_path()\n",
    "    agent.load_model(filepath=full_model_path)\n",
    "  \n",
    "  optimizer = torch.optim.Adam(agent.parameters(), lr=LEARNING_RATE)\n",
    "  criterion = torch.nn.SmoothL1Loss() # Huber Loss\n",
    "  \n",
    "  return agent, optimizer, criterion"
   ]
  },
  {
   "cell_type": "markdown",
   "metadata": {},
   "source": [
    "Below is an untrained model whose parameters were initialized randomly. Its performance is random."
   ]
  },
  {
   "cell_type": "code",
   "execution_count": 2,
   "metadata": {},
   "outputs": [
    {
     "name": "stderr",
     "output_type": "stream",
     "text": [
      "100%|██████████| 10000/10000 [00:50<00:00, 198.97it/s]"
     ]
    },
    {
     "name": "stdout",
     "output_type": "stream",
     "text": [
      "\n",
      "Win rate:  55.75%\n",
      "Draw rate: 8.81%\n",
      "Loss rate: 35.44%\n"
     ]
    },
    {
     "name": "stderr",
     "output_type": "stream",
     "text": [
      "\n"
     ]
    }
   ],
   "source": [
    "baseline, _, _ = supply_model(load_if_exists=False)\n",
    "environment = TicTacToeGame(DEVICE, None, OPPONENT_LEVEL.NAIVE, start_as_X=False)\n",
    "test_agent(baseline, environment, 10000)"
   ]
  },
  {
   "cell_type": "code",
   "execution_count": 3,
   "metadata": {},
   "outputs": [
    {
     "name": "stdout",
     "output_type": "stream",
     "text": [
      "Model saved to '../../../trained_models/TicTacToeV2\\TicTacToe-Baseline-Untrained.pt'.\n"
     ]
    },
    {
     "data": {
      "text/plain": [
       "'../../../trained_models/TicTacToeV2\\\\TicTacToe-Baseline-Untrained.pt'"
      ]
     },
     "execution_count": 3,
     "metadata": {},
     "output_type": "execute_result"
    }
   ],
   "source": [
    "baseline.save_model(MODEL_PATH, MODEL_NAME)"
   ]
  },
  {
   "cell_type": "code",
   "execution_count": null,
   "metadata": {},
   "outputs": [],
   "source": []
  }
 ],
 "metadata": {
  "kernelspec": {
   "display_name": ".venv",
   "language": "python",
   "name": "python3"
  },
  "language_info": {
   "codemirror_mode": {
    "name": "ipython",
    "version": 3
   },
   "file_extension": ".py",
   "mimetype": "text/x-python",
   "name": "python",
   "nbconvert_exporter": "python",
   "pygments_lexer": "ipython3",
   "version": "3.12.1"
  }
 },
 "nbformat": 4,
 "nbformat_minor": 2
}
