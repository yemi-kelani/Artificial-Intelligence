{
 "cells": [
  {
   "cell_type": "markdown",
   "metadata": {
    "id": "XReCdM8kILUt"
   },
   "source": [
    "#### Optimal Opponent Experiments\n",
    "Author: Yemi Kelani"
   ]
  },
  {
   "cell_type": "markdown",
   "metadata": {
    "id": "1vNSWFUkwdXc"
   },
   "source": [
    "##### Google Drive Setup (Skip if running locally)\n",
    "\n",
    "> To run this notebook, follow these steps:\n",
    "> 1. Download the latest version of the [repository](https://github.com/yemi-kelani/artificial-intelligence/tree/master).\n",
    "> 2. Upload the repsitory files to your Google Drive account under the path `Projects/artificial-intelligence`.\n",
    "> 3. Open this file (`train.ipynb`) from your Google Drive and run the experiments."
   ]
  },
  {
   "cell_type": "code",
   "execution_count": null,
   "metadata": {
    "colab": {
     "base_uri": "https://localhost:8080/"
    },
    "executionInfo": {
     "elapsed": 17125,
     "status": "ok",
     "timestamp": 1730866117884,
     "user": {
      "displayName": "A. Kelani",
      "userId": "12102654022096104534"
     },
     "user_tz": 480
    },
    "id": "rEqTNnEdl-8u",
    "outputId": "c4d16bbd-fd7d-46b6-8558-e3c3f72eb41a"
   },
   "outputs": [],
   "source": [
    "from google.colab import drive\n",
    "drive.mount('/content/drive')"
   ]
  },
  {
   "cell_type": "code",
   "execution_count": null,
   "metadata": {
    "executionInfo": {
     "elapsed": 3,
     "status": "ok",
     "timestamp": 1730866117884,
     "user": {
      "displayName": "A. Kelani",
      "userId": "12102654022096104534"
     },
     "user_tz": 480
    },
    "id": "3IlDuGfgof5R"
   },
   "outputs": [],
   "source": [
    "ROOT_FOLDER = \"drive/MyDrive/Projects/artificial-intelligence/models/ReinforcementLearning/\"\n",
    "PROJECT_PATH = f\"{ROOT_FOLDER}/DeepQ_TicTacToe_v2\"\n",
    "NOTEBOOK_LOCATION = f\"{PROJECT_PATH}/experiments\""
   ]
  },
  {
   "cell_type": "code",
   "execution_count": null,
   "metadata": {
    "executionInfo": {
     "elapsed": 5627,
     "status": "ok",
     "timestamp": 1730866353934,
     "user": {
      "displayName": "A. Kelani",
      "userId": "12102654022096104534"
     },
     "user_tz": 480
    },
    "id": "5dji1umepw8Z"
   },
   "outputs": [],
   "source": [
    "!cp {PROJECT_PATH}/DeepQAgent.py .\n",
    "!cp {PROJECT_PATH}/TicTacToeGame.py .\n",
    "!cp {ROOT_FOLDER}/Utils.py .\n",
    "\n",
    "from DeepQAgent import DeepQAgent\n",
    "from TicTacToeGame import TicTacToeGame, OPPONENT_LEVEL\n",
    "from Utils import (\n",
    "    train_agent,\n",
    "    test_agent\n",
    ")\n",
    "MODEL_PATH = \"drive/MyDrive/Projects/artificial-intelligence/trained_models/ReinforcementLearning/TicTacToeV2\""
   ]
  },
  {
   "cell_type": "markdown",
   "metadata": {},
   "source": [
    "##### Local Setup (Skip if running remotely)\n",
    "\n",
    "> 1. Run the following cells"
   ]
  },
  {
   "cell_type": "code",
   "execution_count": 1,
   "metadata": {
    "id": "S8BLUQ7N3Ors"
   },
   "outputs": [],
   "source": [
    "from models.ReinforcementLearning.DeepQ_TicTacToe_v2.DeepQAgent import DeepQAgent\n",
    "from models.ReinforcementLearning.DeepQ_TicTacToe_v2.TicTacToeGame import TicTacToeGame, OPPONENT_LEVEL\n",
    "from models.ReinforcementLearning.Utils import (\n",
    "    train_agent,\n",
    "    test_agent\n",
    ")\n",
    "MODEL_PATH = \"../../../../trained_models/ReinforcementLearning/TicTacToeV2\""
   ]
  },
  {
   "cell_type": "markdown",
   "metadata": {
    "id": "2kw4XZB63VyB"
   },
   "source": [
    "##### Experiments"
   ]
  },
  {
   "cell_type": "code",
   "execution_count": null,
   "metadata": {
    "colab": {
     "base_uri": "https://localhost:8080/"
    },
    "executionInfo": {
     "elapsed": 288,
     "status": "ok",
     "timestamp": 1730866380936,
     "user": {
      "displayName": "A. Kelani",
      "userId": "12102654022096104534"
     },
     "user_tz": 480
    },
    "id": "IpvCCHUX3Ge2",
    "outputId": "4c3b7b11-0c5b-46ce-d567-ddb81d290876"
   },
   "outputs": [],
   "source": [
    "import os\n",
    "import torch\n",
    "\n",
    "DEVICE = torch.device(\"cuda\" if torch.cuda.is_available() else \"cpu\")\n",
    "print(DEVICE)\n",
    "\n",
    "# DeepQ parameters\n",
    "LEARNING_RATE      = 0.001\n",
    "MOEMENTUM          = 0.90\n",
    "NUM_EPISODES       = 10000\n",
    "EPSILON            = 1.0\n",
    "GAMMA              = 0.95\n",
    "STATE_SPACE        = 9\n",
    "ACTION_SPACE       = 9\n",
    "HIDDEN_SIZE        = 128\n",
    "DROPOUT            = 0.20\n",
    "TRAIN_START        = 1000\n",
    "BATCH_SIZE         = 256\n",
    "MEMORY_MAX_LEN     = 2000\n",
    "USE_TARGET_NETWORK = True\n",
    "NETWORK_SYNC_RATE  = 3\n",
    "\n",
    "# model save-path roots\n",
    "BASELINE = \"TicTacToe-v2-BASELINE\"\n",
    "NAIVE    = \"TicTacToe-v2-NAIVE\"\n",
    "AGENT    = \"TicTacToe-v2-AGENT\"\n",
    "OPTIMAL  = \"TicTacToe-v2-OPTIMAL\"\n",
    "SELF     = \"TicTacToe-v2-SELF\"\n",
    "\n",
    "def get_full_model_path(agent_name: str = None):\n",
    "  if agent_name is None:\n",
    "    return os.path.join(MODEL_PATH, \"\" + \".pt\")\n",
    "  return os.path.join(MODEL_PATH, agent_name + \".pt\")\n",
    "\n",
    "def supply_model(\n",
    "  load_if_exists: bool = True, \n",
    "  agent_name: str = None,\n",
    "  optimizer_type = \"\"\n",
    "  ):\n",
    "\n",
    "  agent = DeepQAgent(\n",
    "      device             = DEVICE,\n",
    "      epsilon            = EPSILON,\n",
    "      gamma              = GAMMA,\n",
    "      state_space        = STATE_SPACE,\n",
    "      action_space       = ACTION_SPACE,\n",
    "      hidden_size        = HIDDEN_SIZE,\n",
    "      dropout            = DROPOUT,\n",
    "      train_start        = TRAIN_START,\n",
    "      batch_size         = BATCH_SIZE,\n",
    "      memory_max_len     = MEMORY_MAX_LEN,\n",
    "      use_target_network = USE_TARGET_NETWORK,\n",
    "      network_sync_rate  = NETWORK_SYNC_RATE\n",
    "  )\n",
    "\n",
    "  full_model_path = get_full_model_path(agent_name)\n",
    "  if load_if_exists and os.path.exists(full_model_path):\n",
    "    print(\"Loading Model Parameters...\")\n",
    "    agent.load_model(filepath=full_model_path)\n",
    "\n",
    "  match optimizer_type.upper():\n",
    "    case \"SGD\":\n",
    "      optimizer = torch.optim.SGD(\n",
    "        agent.parameters(), \n",
    "        lr=LEARNING_RATE, \n",
    "        momentum=MOEMENTUM\n",
    "      )\n",
    "    case \"RMS\":\n",
    "      optimizer = torch.optim.RMSprop(agent.parameters(), lr=LEARNING_RATE)\n",
    "    case \"ADAM\":\n",
    "      optimizer = torch.optim.Adam(agent.parameters(), lr=LEARNING_RATE)\n",
    "    case _:\n",
    "      optimizer = torch.optim.Adam(agent.parameters(), lr=LEARNING_RATE)\n",
    "      \n",
    "  # criterion = torch.nn.SmoothL1Loss() # Huber Loss\n",
    "  criterion = torch.nn.MSELoss()\n",
    "  # criterion = torch.nn.CrossEntropyLoss() # INCOMPATIBLE WITH (Q_BATCH, TARGET_Q_BATCH) INPUT SCHEME\n",
    "  \n",
    "  return agent, optimizer, criterion\n",
    "\n",
    "def compare_to_naive(agent_name: str, num_episodes: int = 10000):\n",
    "  _agent, _, _ = supply_model(load_if_exists=True, agent_name=agent_name)\n",
    "  _environment = TicTacToeGame(DEVICE, None, OPPONENT_LEVEL.NAIVE, start_as_X=False)\n",
    "  test_agent(_agent, _environment, num_episodes)\n",
    "\n",
    "def compare_to_optimal(agent_name: str, num_episodes: int = 100):\n",
    "  _agent, _, _ = supply_model(load_if_exists=True, agent_name=agent_name)\n",
    "  _environment = TicTacToeGame(DEVICE, None, OPPONENT_LEVEL.OPTIMAL, start_as_X=False)\n",
    "  test_agent(_agent, _environment, num_episodes)\n",
    "\n",
    "def compare_to_model(agent_name: str, model_name: str, num_episodes: int = 10000):\n",
    "  _agent, _, _ = supply_model(load_if_exists=True, agent_name=agent_name)\n",
    "  _enemy, _, _ = supply_model(load_if_exists=True, agent_name=model_name)\n",
    "  _environment = TicTacToeGame(DEVICE, _enemy, OPPONENT_LEVEL.AGENT, start_as_X=False)\n",
    "  test_agent(_agent, _environment, num_episodes)\n"
   ]
  },
  {
   "cell_type": "code",
   "execution_count": null,
   "metadata": {
    "colab": {
     "base_uri": "https://localhost:8080/",
     "height": 73
    },
    "executionInfo": {
     "elapsed": 5852,
     "status": "ok",
     "timestamp": 1730780311679,
     "user": {
      "displayName": "A. Kelani",
      "userId": "12102654022096104534"
     },
     "user_tz": 480
    },
    "id": "zgX_xdLvxaaE",
    "outputId": "d27812ce-7610-46d3-d9fe-1badef8b5b5c"
   },
   "outputs": [],
   "source": [
    "agent, _, _ = supply_model()\n",
    "agent.save_model(MODEL_PATH, BASELINE)"
   ]
  },
  {
   "cell_type": "code",
   "execution_count": null,
   "metadata": {
    "colab": {
     "base_uri": "https://localhost:8080/"
    },
    "executionInfo": {
     "elapsed": 68624,
     "status": "ok",
     "timestamp": 1730780380300,
     "user": {
      "displayName": "A. Kelani",
      "userId": "12102654022096104534"
     },
     "user_tz": 480
    },
    "id": "KgNZkepzxkQ9",
    "outputId": "cdbd3b32-5b3f-4834-c9ec-6770290ea1ab"
   },
   "outputs": [],
   "source": [
    "compare_to_naive(BASELINE)"
   ]
  },
  {
   "cell_type": "code",
   "execution_count": null,
   "metadata": {
    "colab": {
     "base_uri": "https://localhost:8080/"
    },
    "id": "a8fX711p3rw_",
    "outputId": "1eff47fb-57b7-4c77-d996-aecbf5ee210f"
   },
   "outputs": [],
   "source": [
    "agent, optimizer, criterion = supply_model(\n",
    "    load_if_exists=True, \n",
    "    agent_name=BASELINE,\n",
    "    optimizer_type=\"SGD\"\n",
    ")\n",
    "agent.LOG_DETAILS = False\n",
    "agent.prep_cosine_anneal(0.0, 1.0, NUM_EPISODES)\n",
    "environment = TicTacToeGame(DEVICE, None, OPPONENT_LEVEL.NAIVE)\n",
    "reward_history = train_agent(\n",
    "    agent,\n",
    "    environment,\n",
    "    NUM_EPISODES,\n",
    "    optimizer,\n",
    "    criterion,\n",
    "    DEVICE,\n",
    "    MODEL_PATH,\n",
    "    model_name = NAIVE,\n",
    "    save_every = 2000,\n",
    "    # epsilon_min_value = 0.30,\n",
    "    # epsilon_max_value = 0.75,\n",
    ")\n",
    "agent.plot_loss_history()"
   ]
  },
  {
   "cell_type": "code",
   "execution_count": null,
   "metadata": {},
   "outputs": [],
   "source": [
    "compare_to_naive(f\"{OPTIMAL}-2K\")\n",
    "compare_to_optimal(f\"{OPTIMAL}-2K\")"
   ]
  },
  {
   "cell_type": "code",
   "execution_count": null,
   "metadata": {},
   "outputs": [],
   "source": [
    "compare_to_naive(f\"{OPTIMAL}-4K\")\n",
    "compare_to_optimal(f\"{OPTIMAL}-4K\")"
   ]
  },
  {
   "cell_type": "code",
   "execution_count": null,
   "metadata": {},
   "outputs": [],
   "source": [
    "compare_to_naive(f\"{OPTIMAL}-6K\")\n",
    "compare_to_optimal(f\"{OPTIMAL}-6K\")"
   ]
  },
  {
   "cell_type": "code",
   "execution_count": null,
   "metadata": {},
   "outputs": [],
   "source": [
    "compare_to_naive(f\"{OPTIMAL}-8K\")\n",
    "compare_to_optimal(f\"{OPTIMAL}-8K\")"
   ]
  },
  {
   "cell_type": "code",
   "execution_count": null,
   "metadata": {},
   "outputs": [],
   "source": [
    "compare_to_naive(f\"{OPTIMAL}-10K\")\n",
    "compare_to_optimal(f\"{OPTIMAL}-10K\")"
   ]
  },
  {
   "cell_type": "code",
   "execution_count": null,
   "metadata": {},
   "outputs": [],
   "source": [
    "torch.flatten(torch.tensor([[[0,1,2],[3,4,5],[6,7,8]], [[0,1,2],[3,4,5],[6,7,8]]]))"
   ]
  },
  {
   "cell_type": "code",
   "execution_count": null,
   "metadata": {},
   "outputs": [],
   "source": [
    "batch = torch.stack([\n",
    "    torch.tensor([1,2,3,4,5,6,7,8,9]).reshape((1, 9)),\n",
    "    torch.tensor([1,2,3,4,5,6,7,8,9]).reshape((1, 9)),\n",
    "    torch.tensor([1,2,3,4,5,6,7,8,9]).reshape((1, 9)),\n",
    "    torch.tensor([1,2,3,4,5,6,7,8,9]).reshape((1, 9))\n",
    "])\n",
    "\n",
    "batch.squeeze().shape\n",
    "\n",
    "# batch.reshape((len(batch), len(batch[0]))).shape"
   ]
  },
  {
   "cell_type": "code",
   "execution_count": null,
   "metadata": {},
   "outputs": [],
   "source": [
    "torch.zeros((3, 3)).reshape((1, agent.action_space)).shape"
   ]
  },
  {
   "cell_type": "code",
   "execution_count": null,
   "metadata": {},
   "outputs": [],
   "source": [
    "len(torch.zeros((3, 3)))"
   ]
  },
  {
   "cell_type": "code",
   "execution_count": null,
   "metadata": {},
   "outputs": [],
   "source": [
    "torch.tensor([1,2,3,4,5,6,7,8,9]).reshape((1, 9)).squeeze().shape"
   ]
  },
  {
   "cell_type": "code",
   "execution_count": null,
   "metadata": {},
   "outputs": [],
   "source": [
    "[1,2,3,4,5][-3:]"
   ]
  },
  {
   "cell_type": "code",
   "execution_count": null,
   "metadata": {},
   "outputs": [],
   "source": []
  }
 ],
 "metadata": {
  "accelerator": "GPU",
  "colab": {
   "authorship_tag": "ABX9TyOnbY0pxlm6JTS4enhO6PPu",
   "collapsed_sections": [
    "rOHKJqHY22Ga"
   ],
   "gpuType": "T4",
   "provenance": []
  },
  "kernelspec": {
   "display_name": ".venv",
   "language": "python",
   "name": "python3"
  },
  "language_info": {
   "codemirror_mode": {
    "name": "ipython",
    "version": 3
   },
   "file_extension": ".py",
   "mimetype": "text/x-python",
   "name": "python",
   "nbconvert_exporter": "python",
   "pygments_lexer": "ipython3",
   "version": "3.12.7"
  }
 },
 "nbformat": 4,
 "nbformat_minor": 0
}
