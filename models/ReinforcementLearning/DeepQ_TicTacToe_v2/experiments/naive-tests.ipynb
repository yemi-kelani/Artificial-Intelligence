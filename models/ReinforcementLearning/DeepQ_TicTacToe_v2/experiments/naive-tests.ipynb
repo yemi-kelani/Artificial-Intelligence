{
 "cells": [
  {
   "cell_type": "code",
   "execution_count": 5,
   "metadata": {},
   "outputs": [
    {
     "name": "stdout",
     "output_type": "stream",
     "text": [
      "cuda\n"
     ]
    }
   ],
   "source": [
    "import torch\n",
    "\n",
    "DEVICE = torch.device(\"cuda\" if torch.cuda.is_available() else \"cpu\")\n",
    "print(DEVICE)\n",
    "\n",
    "from models.ReinforcementLearning.DeepQ_TicTacToe_v2.DeepQAgent import DeepQAgent\n",
    "from models.ReinforcementLearning.DeepQ_TicTacToe_v2.TicTacToeGame import TicTacToeGame, OPPONENT_LEVEL\n",
    "from models.ReinforcementLearning.Utils import (\n",
    "    test_agent,\n",
    "    set_seed\n",
    ")\n",
    "\n",
    "SEED = 100\n",
    "set_seed(SEED)\n",
    "\n",
    "# DeepQ parameters\n",
    "BATCH_SIZE     = 128\n",
    "NUM_EPISODES   = 1000 if torch.cuda.is_available() else 100\n",
    "STATE_SPACE    = 9\n",
    "ACTION_SPACE   = 9\n",
    "HIDDEN_SIZE    = 128\n",
    "EPSILON        = 1.0\n",
    "GAMMA          = 0.99\n",
    "LEARNING_RATE  = 0.001\n",
    "DROPOUT        = 0.25\n",
    "TRAIN_START    = 1500\n",
    "NEGATIVE_SLOPE = 0.01\n",
    "COMPUTER_LEVEL = OPPONENT_LEVEL.NAIVE\n",
    "\n",
    "# save path\n",
    "MODEL_PATH = \"../../../trained_models/ReinforcementLearning/TicTacToeV2\"\n",
    "MODEL_NAME = \"\"\n",
    "\n",
    "BASELINE = \"TicTacToev2-Baseline-Untrained\"\n",
    "NAIVE_2K = \"TicTacToev2-NAIVE-2K\"\n",
    "NAIVE_4K = \"TicTacToev2-NAIVE-4K\"\n",
    "NAIVE_6K = \"TicTacToev2-NAIVE-6K\"\n",
    "NAIVE_8K = \"TicTacToev2-NAIVE-8K\"\n",
    "NAIVE_10K = \"TicTacToev2-NAIVE-10K\"\n",
    "AGENT_1K = \"TicTacToev2-AGENT-1K\"\n",
    "AGENT_2K = \"TicTacToev2-AGENT-2K\"\n",
    "AGENT_3K = \"TicTacToev2-AGENT-3K\"\n",
    "AGENT_4K = \"TicTacToev2-AGENT-4K\"\n",
    "\n",
    "NAIVE_5K = \"TicTacToe-NAIVE-5000\"\n",
    "NAIVE_10K2 = \"TicTacToe-NAIVE-10000\"\n",
    "NAIVE_15K = \"TicTacToe-NAIVE-15000(overfit)\"\n",
    "AGENT_5K = \"TicTacToe-NAIVE-10K-AGENT-5K\"\n",
    "AGENT_7500 = \"TicTacToe-NAIVE-10K-AGENT-7500\"\n",
    "AGENT_10K = \"TicTacToe-NAIVE-10K-AGENT-10K\"\n",
    "\n",
    "def get_full_model_path(agent_name: str = None):\n",
    "  if agent_name is None:\n",
    "    return os.path.join(MODEL_PATH, MODEL_NAME + \".pt\")\n",
    "  return os.path.join(MODEL_PATH, agent_name + \".pt\")\n",
    "\n",
    "def supply_model(load_if_exists: bool = True, agent_name: str = None):\n",
    "  \n",
    "  agent = DeepQAgent(\n",
    "      device         = DEVICE,\n",
    "      epsilon        = EPSILON, \n",
    "      gamma          = GAMMA,\n",
    "      state_space    = STATE_SPACE, \n",
    "      action_space   = ACTION_SPACE, \n",
    "      hidden_size    = HIDDEN_SIZE,\n",
    "      dropout        = DROPOUT,\n",
    "      train_start    = TRAIN_START,\n",
    "      batch_size     = BATCH_SIZE,\n",
    "      negative_slope = NEGATIVE_SLOPE\n",
    "  )\n",
    "\n",
    "  full_model_path = get_full_model_path(agent_name)\n",
    "  if load_if_exists and os.path.exists(full_model_path):\n",
    "    print(\"Loading Model Parameters...\")\n",
    "    agent.load_model(filepath=full_model_path)\n",
    "  \n",
    "  optimizer = torch.optim.Adam(agent.parameters(), lr=LEARNING_RATE)\n",
    "  criterion = torch.nn.SmoothL1Loss() # Huber Loss\n",
    "  \n",
    "  return agent, optimizer, criterion\n",
    "\n",
    "def compare_to_naive(agent_name: str, num_episodes: int = 25000):\n",
    "  _agent, _, _ = supply_model(load_if_exists=True, agent_name=agent_name)\n",
    "  _environment = TicTacToeGame(DEVICE, None, OPPONENT_LEVEL.NAIVE, start_as_X=False)\n",
    "  test_agent(_agent, _environment, num_episodes)\n",
    "\n",
    "def compare_to_optimal(agent_name: str, num_episodes: int = 100):\n",
    "  _agent, _, _ = supply_model(load_if_exists=True, agent_name=agent_name)\n",
    "  _environment = TicTacToeGame(DEVICE, None, OPPONENT_LEVEL.OPTIMAL, start_as_X=False)\n",
    "  test_agent(_agent, _environment, num_episodes)\n",
    "\n",
    "def compare_to_model(agent_name: str, model_name: str, num_episodes: int = 10000):\n",
    "  _agent, _, _ = supply_model(load_if_exists=True, agent_name=agent_name)\n",
    "  _enemy, _, _ = supply_model(load_if_exists=True, agent_name=model_name)\n",
    "  _environment = TicTacToeGame(DEVICE, _enemy, OPPONENT_LEVEL.AGENT, start_as_X=False)\n",
    "  test_agent(_agent, _environment, num_episodes)\n"
   ]
  },
  {
   "cell_type": "code",
   "execution_count": 2,
   "metadata": {},
   "outputs": [
    {
     "name": "stdout",
     "output_type": "stream",
     "text": [
      "Loading Model Parameters...\n",
      "Model loaded from '../../../trained_models/ReinforcementLearning/TicTacToeV2\\TicTacToe-Baseline-Untrained.pt'.\n"
     ]
    },
    {
     "name": "stderr",
     "output_type": "stream",
     "text": [
      "100%|██████████| 25000/25000 [01:56<00:00, 213.90it/s]"
     ]
    },
    {
     "name": "stdout",
     "output_type": "stream",
     "text": [
      "\n",
      "Win rate:  55.316%\n",
      "Draw rate: 9.456%\n",
      "Loss rate: 35.228%\n"
     ]
    },
    {
     "name": "stderr",
     "output_type": "stream",
     "text": [
      "\n"
     ]
    }
   ],
   "source": [
    "compare_to_naive(BASELINE)"
   ]
  },
  {
   "cell_type": "code",
   "execution_count": 3,
   "metadata": {},
   "outputs": [
    {
     "name": "stdout",
     "output_type": "stream",
     "text": [
      "Loading Model Parameters...\n",
      "Model loaded from '../../../trained_models/ReinforcementLearning/TicTacToeV2\\TicTacToe-NAIVE-5000.pt'.\n"
     ]
    },
    {
     "name": "stderr",
     "output_type": "stream",
     "text": [
      "100%|██████████| 25000/25000 [02:03<00:00, 202.27it/s]"
     ]
    },
    {
     "name": "stdout",
     "output_type": "stream",
     "text": [
      "\n",
      "Win rate:  68.352%\n",
      "Draw rate: 4.444%\n",
      "Loss rate: 27.204%\n"
     ]
    },
    {
     "name": "stderr",
     "output_type": "stream",
     "text": [
      "\n"
     ]
    }
   ],
   "source": [
    "compare_to_naive(NAIVE_5K)"
   ]
  },
  {
   "cell_type": "code",
   "execution_count": 4,
   "metadata": {},
   "outputs": [
    {
     "name": "stdout",
     "output_type": "stream",
     "text": [
      "Loading Model Parameters...\n",
      "Model loaded from '../../../trained_models/ReinforcementLearning/TicTacToeV2\\TicTacToe-NAIVE-10000.pt'.\n"
     ]
    },
    {
     "name": "stderr",
     "output_type": "stream",
     "text": [
      "100%|██████████| 25000/25000 [02:09<00:00, 193.50it/s]"
     ]
    },
    {
     "name": "stdout",
     "output_type": "stream",
     "text": [
      "\n",
      "Win rate:  72.24%\n",
      "Draw rate: 7.108%\n",
      "Loss rate: 20.652%\n"
     ]
    },
    {
     "name": "stderr",
     "output_type": "stream",
     "text": [
      "\n"
     ]
    }
   ],
   "source": [
    "compare_to_naive(NAIVE_10K)"
   ]
  },
  {
   "cell_type": "code",
   "execution_count": 5,
   "metadata": {},
   "outputs": [
    {
     "name": "stdout",
     "output_type": "stream",
     "text": [
      "Loading Model Parameters...\n",
      "Model loaded from '../../../trained_models/ReinforcementLearning/TicTacToeV2\\TicTacToe-NAIVE-15000(overfit).pt'.\n"
     ]
    },
    {
     "name": "stderr",
     "output_type": "stream",
     "text": [
      "100%|██████████| 25000/25000 [02:08<00:00, 194.53it/s]"
     ]
    },
    {
     "name": "stdout",
     "output_type": "stream",
     "text": [
      "\n",
      "Win rate:  69.332%\n",
      "Draw rate: 5.78%\n",
      "Loss rate: 24.888%\n"
     ]
    },
    {
     "name": "stderr",
     "output_type": "stream",
     "text": [
      "\n"
     ]
    }
   ],
   "source": [
    "compare_to_naive(NAIVE_15K)"
   ]
  },
  {
   "cell_type": "code",
   "execution_count": 3,
   "metadata": {},
   "outputs": [
    {
     "name": "stdout",
     "output_type": "stream",
     "text": [
      "Loading Model Parameters...\n",
      "Model loaded from '../../../trained_models/ReinforcementLearning/TicTacToeV2\\TicTacToe-NAIVE-10K-AGENT-5K.pt'.\n"
     ]
    },
    {
     "name": "stderr",
     "output_type": "stream",
     "text": [
      "100%|██████████| 25000/25000 [01:58<00:00, 210.37it/s]"
     ]
    },
    {
     "name": "stdout",
     "output_type": "stream",
     "text": [
      "\n",
      "Win rate:  65.104%\n",
      "Draw rate: 4.516%\n",
      "Loss rate: 30.38%\n"
     ]
    },
    {
     "name": "stderr",
     "output_type": "stream",
     "text": [
      "\n"
     ]
    }
   ],
   "source": [
    "compare_to_naive(AGENT_5K)\n"
   ]
  },
  {
   "cell_type": "code",
   "execution_count": 6,
   "metadata": {},
   "outputs": [
    {
     "name": "stdout",
     "output_type": "stream",
     "text": [
      "Loading Model Parameters...\n",
      "Model loaded from '../../../trained_models/ReinforcementLearning/TicTacToeV2\\TicTacToe-NAIVE-10K-AGENT-7500.pt'.\n"
     ]
    },
    {
     "name": "stderr",
     "output_type": "stream",
     "text": [
      "100%|██████████| 25000/25000 [02:17<00:00, 181.29it/s]"
     ]
    },
    {
     "name": "stdout",
     "output_type": "stream",
     "text": [
      "\n",
      "Win rate:  55.452%\n",
      "Draw rate: 10.7%\n",
      "Loss rate: 33.848%\n"
     ]
    },
    {
     "name": "stderr",
     "output_type": "stream",
     "text": [
      "\n"
     ]
    }
   ],
   "source": [
    "compare_to_naive(AGENT_7500)"
   ]
  },
  {
   "cell_type": "code",
   "execution_count": 4,
   "metadata": {},
   "outputs": [
    {
     "name": "stderr",
     "output_type": "stream",
     "text": [
      "100%|██████████| 25000/25000 [01:59<00:00, 209.58it/s]"
     ]
    },
    {
     "name": "stdout",
     "output_type": "stream",
     "text": [
      "\n",
      "Win rate:  46.736%\n",
      "Draw rate: 8.94%\n",
      "Loss rate: 44.324%\n"
     ]
    },
    {
     "name": "stderr",
     "output_type": "stream",
     "text": [
      "\n"
     ]
    }
   ],
   "source": [
    "compare_to_naive(AGENT_10K)"
   ]
  },
  {
   "cell_type": "code",
   "execution_count": 3,
   "metadata": {},
   "outputs": [
    {
     "name": "stdout",
     "output_type": "stream",
     "text": [
      "Loading Model Parameters...\n",
      "Model loaded from '../../../trained_models/ReinforcementLearning/TicTacToeV2\\TicTacToev2-NAIVE-2K.pt'.\n",
      "Loading Model Parameters...\n",
      "Model loaded from '../../../trained_models/ReinforcementLearning/TicTacToeV2\\TicTacToe-NAIVE-5000.pt'.\n"
     ]
    },
    {
     "name": "stderr",
     "output_type": "stream",
     "text": [
      "100%|██████████| 10000/10000 [00:50<00:00, 198.73it/s]"
     ]
    },
    {
     "name": "stdout",
     "output_type": "stream",
     "text": [
      "\n",
      "Win rate:  82.87%\n",
      "Draw rate: 0.0%\n",
      "Loss rate: 17.13%\n"
     ]
    },
    {
     "name": "stderr",
     "output_type": "stream",
     "text": [
      "\n"
     ]
    }
   ],
   "source": [
    "compare_to_model(NAIVE_2K, NAIVE_5K)"
   ]
  },
  {
   "cell_type": "code",
   "execution_count": 4,
   "metadata": {},
   "outputs": [
    {
     "name": "stdout",
     "output_type": "stream",
     "text": [
      "Loading Model Parameters...\n",
      "Model loaded from '../../../trained_models/ReinforcementLearning/TicTacToeV2\\TicTacToev2-AGENT-1K.pt'.\n",
      "Loading Model Parameters...\n",
      "Model loaded from '../../../trained_models/ReinforcementLearning/TicTacToeV2\\TicTacToe-NAIVE-5000.pt'.\n"
     ]
    },
    {
     "name": "stderr",
     "output_type": "stream",
     "text": [
      "100%|██████████| 10000/10000 [00:53<00:00, 186.51it/s]"
     ]
    },
    {
     "name": "stdout",
     "output_type": "stream",
     "text": [
      "\n",
      "Win rate:  66.0%\n",
      "Draw rate: 0.0%\n",
      "Loss rate: 34.0%\n"
     ]
    },
    {
     "name": "stderr",
     "output_type": "stream",
     "text": [
      "\n"
     ]
    }
   ],
   "source": [
    "compare_to_model(AGENT_1K, NAIVE_5K)"
   ]
  },
  {
   "cell_type": "code",
   "execution_count": 6,
   "metadata": {},
   "outputs": [
    {
     "name": "stdout",
     "output_type": "stream",
     "text": [
      "Loading Model Parameters...\n",
      "Model loaded from '../../../trained_models/ReinforcementLearning/TicTacToeV2\\TicTacToev2-NAIVE-2K.pt'.\n",
      "Loading Model Parameters...\n",
      "Model loaded from '../../../trained_models/ReinforcementLearning/TicTacToeV2\\TicTacToe-NAIVE-10000.pt'.\n"
     ]
    },
    {
     "name": "stderr",
     "output_type": "stream",
     "text": [
      "100%|██████████| 10000/10000 [00:56<00:00, 178.44it/s]\n"
     ]
    },
    {
     "name": "stdout",
     "output_type": "stream",
     "text": [
      "\n",
      "Win rate:  60.37%\n",
      "Draw rate: 5.95%\n",
      "Loss rate: 33.68%\n",
      "Loading Model Parameters...\n",
      "Model loaded from '../../../trained_models/ReinforcementLearning/TicTacToeV2\\TicTacToev2-AGENT-1K.pt'.\n",
      "Loading Model Parameters...\n",
      "Model loaded from '../../../trained_models/ReinforcementLearning/TicTacToeV2\\TicTacToe-NAIVE-10000.pt'.\n"
     ]
    },
    {
     "name": "stderr",
     "output_type": "stream",
     "text": [
      "100%|██████████| 10000/10000 [00:56<00:00, 176.37it/s]"
     ]
    },
    {
     "name": "stdout",
     "output_type": "stream",
     "text": [
      "\n",
      "Win rate:  53.9%\n",
      "Draw rate: 6.57%\n",
      "Loss rate: 39.53%\n"
     ]
    },
    {
     "name": "stderr",
     "output_type": "stream",
     "text": [
      "\n"
     ]
    }
   ],
   "source": [
    "compare_to_model(NAIVE_2K, NAIVE_10K2)\n",
    "compare_to_model(AGENT_1K, NAIVE_10K2)"
   ]
  },
  {
   "cell_type": "code",
   "execution_count": 8,
   "metadata": {},
   "outputs": [
    {
     "name": "stdout",
     "output_type": "stream",
     "text": [
      "Loading Model Parameters...\n",
      "Model loaded from '../../../trained_models/ReinforcementLearning/TicTacToeV2\\TicTacToev2-NAIVE-2K.pt'.\n",
      "Loading Model Parameters...\n",
      "Model loaded from '../../../trained_models/ReinforcementLearning/TicTacToeV2\\TicTacToe-NAIVE-10K-AGENT-5K.pt'.\n"
     ]
    },
    {
     "name": "stderr",
     "output_type": "stream",
     "text": [
      "100%|██████████| 10000/10000 [00:48<00:00, 207.19it/s]\n"
     ]
    },
    {
     "name": "stdout",
     "output_type": "stream",
     "text": [
      "\n",
      "Win rate:  71.68%\n",
      "Draw rate: 0.0%\n",
      "Loss rate: 28.32%\n",
      "Loading Model Parameters...\n",
      "Model loaded from '../../../trained_models/ReinforcementLearning/TicTacToeV2\\TicTacToev2-NAIVE-4K.pt'.\n",
      "Loading Model Parameters...\n",
      "Model loaded from '../../../trained_models/ReinforcementLearning/TicTacToeV2\\TicTacToe-NAIVE-10K-AGENT-5K.pt'.\n"
     ]
    },
    {
     "name": "stderr",
     "output_type": "stream",
     "text": [
      "100%|██████████| 10000/10000 [00:50<00:00, 199.11it/s]"
     ]
    },
    {
     "name": "stdout",
     "output_type": "stream",
     "text": [
      "\n",
      "Win rate:  65.2%\n",
      "Draw rate: 0.0%\n",
      "Loss rate: 34.8%\n"
     ]
    },
    {
     "name": "stderr",
     "output_type": "stream",
     "text": [
      "\n"
     ]
    }
   ],
   "source": [
    "compare_to_model(NAIVE_2K, AGENT_5K)\n",
    "compare_to_model(NAIVE_4K, AGENT_5K)"
   ]
  },
  {
   "cell_type": "code",
   "execution_count": null,
   "metadata": {},
   "outputs": [],
   "source": []
  }
 ],
 "metadata": {
  "kernelspec": {
   "display_name": ".venv",
   "language": "python",
   "name": "python3"
  },
  "language_info": {
   "codemirror_mode": {
    "name": "ipython",
    "version": 3
   },
   "file_extension": ".py",
   "mimetype": "text/x-python",
   "name": "python",
   "nbconvert_exporter": "python",
   "pygments_lexer": "ipython3",
   "version": "3.12.1"
  }
 },
 "nbformat": 4,
 "nbformat_minor": 2
}
